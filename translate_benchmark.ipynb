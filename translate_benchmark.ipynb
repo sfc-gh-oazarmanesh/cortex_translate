{
 "cells": [
  {
   "cell_type": "markdown",
   "id": "2456e454",
   "metadata": {},
   "source": [
    "# Translate Benchmarking"
   ]
  },
  {
   "cell_type": "code",
   "execution_count": 1,
   "id": "1d87dcfe",
   "metadata": {},
   "outputs": [],
   "source": [
    "import requests, uuid, json\n",
    "import datasets\n",
    "import pandas as pd\n",
    "from typing import Optional, List, Dict\n",
    "from sacrebleu import CHRF, BLEU\n",
    "from langchain.output_parsers import StructuredOutputParser\n"
   ]
  },
  {
   "cell_type": "code",
   "execution_count": 2,
   "id": "a9c9f845",
   "metadata": {},
   "outputs": [],
   "source": [
    "from snowflake.snowpark.session import Session\n",
    "from snowflake.snowpark.version import VERSION\n",
    "from snowflake.cortex import Complete, Translate\n",
    "\n",
    "from snowflake.ml.utils.connection_params import SnowflakeLoginOptions"
   ]
  },
  {
   "cell_type": "code",
   "execution_count": 3,
   "id": "79ced561",
   "metadata": {},
   "outputs": [
    {
     "name": "stderr",
     "output_type": "stream",
     "text": [
      "SnowflakeLoginOptions() is in private preview since 0.2.0. Do not use it in production. \n"
     ]
    },
    {
     "name": "stdout",
     "output_type": "stream",
     "text": [
      "----------------------------------------\n",
      "Warehouse                   : CONTAINER_HOL_WH\n",
      "Database                    : None\n",
      "Schema                      : None\n",
      "Snowflake version           : 8.37.1\n",
      "Snowpark for Python version : 1.22.1\n",
      "----------------------------------------\n"
     ]
    }
   ],
   "source": [
    "#snowflake connection\n",
    "session = Session.builder.configs(SnowflakeLoginOptions(connection_name='connections.translate_demos')).create()\n",
    "\n",
    "print(\"----------------------------------------\")\n",
    "snowflake_environment = session.sql('select current_warehouse(), current_database(), current_schema(), current_version()').collect()\n",
    "snowpark_version = VERSION\n",
    "print('Warehouse                   : {}'.format(snowflake_environment[0][0]))\n",
    "print('Database                    : {}'.format(snowflake_environment[0][1]))\n",
    "print('Schema                      : {}'.format(snowflake_environment[0][2]))\n",
    "print('Snowflake version           : {}'.format(snowflake_environment[0][3]))\n",
    "print('Snowpark for Python version : {}.{}.{}'.format(snowpark_version[0],snowpark_version[1],snowpark_version[2]))\n",
    "print(\"----------------------------------------\")"
   ]
  },
  {
   "cell_type": "markdown",
   "id": "62d379d8",
   "metadata": {},
   "source": [
    "# Plan"
   ]
  },
  {
   "cell_type": "markdown",
   "id": "09fa8fdd",
   "metadata": {},
   "source": [
    "\n",
    "1. Compare Translate function to Azure AI Translator\n",
    "2. Compare Complete function to Azure AI Translator using BLEU score\n",
    "    - use standard language (French and Spanish)\n",
    "    - identify best performing models\n",
    "3. Prompt engineering on the model to get better results\n",
    "    - compare results with and without prompt eng using BLEU score\n",
    "4. Compare the best performing model from previous steps to Azure AI Translator using dialect texts (Quebecois for French, US Spanish for Spanish)\n",
    "    - Use BLEU\n",
    "    - Other metrics?\n",
    "5. If previous step is not satisfactory, use fine-tuning\n",
    "    - find data sets or generate fake data. We can use \n"
   ]
  },
  {
   "cell_type": "markdown",
   "id": "cb920514",
   "metadata": {},
   "source": [
    "## Updated plan\n",
    "1. Start with standard Spanish:\n",
    "    1. Generate translations using **Cortex Translate**\n",
    "        1. run a loop on each sentence\n",
    "        2. run on a larger body of text\n",
    "    2. Generate translations using **Cortex Complete**\n",
    "        1. Run a loop of all available models on larger body of text\n",
    "        2. parse the output\n",
    "    3. Generate translations using **Azure Translator**\n",
    "    4. Compare evaluations using BLEU and CHRF scores\n",
    "    5. Compare using manual evaluation\n",
    "2. Repeat with US Spanish sample texts\n",
    "3. Repeat with Standard French\n",
    "4. Repeat with Quebecois French dialect sample texts"
   ]
  },
  {
   "cell_type": "markdown",
   "id": "08c1fbea",
   "metadata": {},
   "source": [
    "# Constants"
   ]
  },
  {
   "cell_type": "code",
   "execution_count": 4,
   "id": "516fdf28",
   "metadata": {},
   "outputs": [],
   "source": [
    "LANG_PAIRS = 'es-en'\n",
    "lang_from, lang_to = LANG_PAIRS.split('-')"
   ]
  },
  {
   "cell_type": "code",
   "execution_count": 5,
   "id": "df3b2595",
   "metadata": {},
   "outputs": [],
   "source": [
    "LOCAL = True  # load data from local file"
   ]
  },
  {
   "cell_type": "markdown",
   "id": "35c835ca",
   "metadata": {},
   "source": [
    "## Azure Translator setup"
   ]
  },
  {
   "cell_type": "code",
   "execution_count": 6,
   "id": "92b0e3ef",
   "metadata": {},
   "outputs": [],
   "source": [
    "key = \"<Azure Translate API Key>\"\n",
    "endpoint = \"https://api.cognitive.microsofttranslator.com\"\n",
    "\n",
    "# location, also known as region.\n",
    "# required if you're using a multi-service or regional (not global) resource. It can be found in the Azure portal on the Keys and Endpoint page.\n",
    "location = \"westus2\"\n",
    "\n",
    "path = '/translate'\n",
    "constructed_url = endpoint + path\n",
    "\n",
    "headers = {\n",
    "    'Ocp-Apim-Subscription-Key': key,\n",
    "    # location required if you're using a multi-service or regional (not global) resource.\n",
    "    'Ocp-Apim-Subscription-Region': location,\n",
    "    'Content-type': 'application/json',\n",
    "    'X-ClientTraceId': str(uuid.uuid4())\n",
    "}"
   ]
  },
  {
   "cell_type": "markdown",
   "id": "e0ecca3b",
   "metadata": {},
   "source": [
    "# Functions"
   ]
  },
  {
   "cell_type": "code",
   "execution_count": 6,
   "id": "63b32d97",
   "metadata": {},
   "outputs": [],
   "source": [
    "def compute_metric(metric, df_ref, sys, lang_pairs=LANG_PAIRS):\n",
    "    \"\"\"\n",
    "    calculates BLEU, CHRF, or COMET score\n",
    "    \"\"\"\n",
    "    results = {}\n",
    "    \n",
    "    lang_from, lang_to = lang_pairs.split('-')\n",
    "    if isinstance(df_ref, pd.DataFrame):\n",
    "        source = list(df_ref[lang_from].tolist())\n",
    "        refs = list(df_ref[lang_to].tolist())\n",
    "    elif isinstance(df_ref, list):\n",
    "        source = df_ref[0]\n",
    "        refs = df_ref[1]\n",
    "\n",
    "    if metric == 'bleu':\n",
    "        bleu = BLEU(trg_lang=lang_to)\n",
    "        b = bleu.corpus_score(sys, refs)\n",
    "        results = round(b.score, 3)\n",
    "    elif metric == 'chrf':\n",
    "        results = round(CHRF().corpus_score(sys, refs).score, 2)\n",
    "    elif metric == 'comet':\n",
    "        global metric_comet\n",
    "        if metric_comet is None:\n",
    "            metric_comet = Comet()\n",
    "        comet_data = [{\"src\": src, \"mt\": sys, \"ref\": ref} for src, sys, ref in zip(source, sys, refs)]\n",
    "        comet_out = metric_comet.score(comet_data)\n",
    "        results = round(comet_out.system_score, 4) * 100\n",
    "    else:\n",
    "        raise ValueError(f\"{metric} metric is not defined\")\n",
    "\n",
    "    return results"
   ]
  },
  {
   "cell_type": "code",
   "execution_count": 7,
   "id": "afd016ff",
   "metadata": {},
   "outputs": [],
   "source": [
    "def print_valuation(ref, sys, service=None):\n",
    "    metrics = ['bleu', 'chrf']\n",
    "    if service is not None:\n",
    "        print(f'scores for service {service} is:')\n",
    "    for metric in metrics:\n",
    "        print(f'{metric}: {compute_metric(metric=metric, df_ref=ref, sys=sys)}')"
   ]
  },
  {
   "cell_type": "code",
   "execution_count": 29,
   "id": "ed3588ee",
   "metadata": {},
   "outputs": [],
   "source": [
    "def translate_prompt_orig(text_to_translate, model=\"reka-flash\", source_language=\"es\", target_language=\"en\"):\n",
    "    \"\"\"\n",
    "    A translation prompt we created\n",
    "    \"\"\"\n",
    "    lang = {'es': 'Spanish', 'en': 'English', 'fr': 'French', 'de': 'German'}\n",
    "    system_prompt = \"\"\"As an accomplished translator with a track record\n",
    "of recognizing dialects, your role is to provide precise translation.\n",
    "Leveraging your deep understanding of Spanish language and possible presence of English words, your\n",
    "translation should be clear and accurate.\"\"\"\n",
    "\n",
    "    prompt = f\"\"\"\"\n",
    "Please translate the following text from {lang[source_language]} to {lang[target_language]}. You should be aiming for a concise translation.\n",
    "Now, take a moment to think and review this text, if you do a good job I will tip you $50: {text_to_translate}\n",
    "\"\"\"\n",
    "\n",
    "\n",
    "    body = json.dumps(\n",
    "        {\n",
    "            \"system\": system_prompt,\n",
    "            \"messages\": [\n",
    "                {\"role\": \"system\", \n",
    "                 \"content\": system_prompt},\n",
    "                {\n",
    "                    \"role\": \"user\",\n",
    "                    \"content\": prompt,\n",
    "                },\n",
    "                {\n",
    "                    \"role\": \"assistant\",\n",
    "                    \"content\": \"Here is my translation of this text:\\n<Response>\",\n",
    "                },\n",
    "            ],\n",
    "        }\n",
    "    )\n",
    "\n",
    "    response = Complete(model, body)\n",
    "\n",
    "    return response"
   ]
  },
  {
   "cell_type": "code",
   "execution_count": 30,
   "id": "25617be0",
   "metadata": {},
   "outputs": [],
   "source": [
    "def translate_prompt_anth(text_to_translate, model=\"reka-flash\", source_language=\"es\", target_language=\"en\"):\n",
    "    \"\"\"\n",
    "    translation prompt suggested by Anthropic\n",
    "    \"\"\"\n",
    "    lang = {'es': 'Spanish', 'en': 'English', 'fr': 'French', 'de': 'German'}\n",
    "    system_prompt = \"\"\"You are a highly skilled translator with expertise in many languages. \n",
    "    Your task is to identify the language of the text I provide and accurately translate it into the specified target language while preserving the meaning, tone, and nuance of the original text. \n",
    "    Please maintain proper grammar, spelling, and punctuation in the translated version.\"\"\"\n",
    "\n",
    "    prompt = {\n",
    "                \"type\": \"text\",\n",
    "                \"text\": f\"{text_to_translate} --> {lang[target_language]}\"\n",
    "                }\n",
    "\n",
    "\n",
    "    body = json.dumps(\n",
    "        {\n",
    "            \"system\": system_prompt,\n",
    "            \"messages\": [\n",
    "                {\n",
    "                    \"role\": \"user\",\n",
    "                    \"content\": prompt,\n",
    "                },\n",
    "            ],\n",
    "        }\n",
    "    )\n",
    "    response = Complete(model, body)\n",
    "\n",
    "    return response"
   ]
  },
  {
   "cell_type": "code",
   "execution_count": 19,
   "id": "8b6bea52",
   "metadata": {},
   "outputs": [],
   "source": [
    "def translate_llm_simple(text_to_translate, model=\"reka-flash\", source_language=\"es\", target_language=\"en\"):\n",
    "    \"\"\"\n",
    "    translation without any prompt eng\n",
    "    \"\"\"\n",
    "    lang = {'es': 'Spanish', 'en': 'English', 'fr': 'French', 'de': 'German'}\n",
    "    body = f'Translate from {lang[source_language]} to {lang[target_language]}: <Text>{text_to_translate}</Text>.'\n",
    "    \n",
    "    return Complete(model, body)"
   ]
  },
  {
   "cell_type": "code",
   "execution_count": null,
   "id": "0d92b049",
   "metadata": {},
   "outputs": [],
   "source": []
  },
  {
   "cell_type": "code",
   "execution_count": 11,
   "id": "0c3c1b8a",
   "metadata": {},
   "outputs": [],
   "source": [
    "def az_translate(text_to_translate, lang_from=\"es\", lang_to=\"en\"):\n",
    "    \"\"\"\n",
    "    Azure AI Translate\n",
    "    \"\"\"\n",
    "    params = {\n",
    "    'api-version': '3.0',\n",
    "    'from': lang_from,\n",
    "    'to': lang_to\n",
    "    }\n",
    "    body = []\n",
    "    \n",
    "    if isinstance(text_to_translate, pd.DataFrame):\n",
    "        for idx, row in text_to_translate.iterrows():\n",
    "            body.append({'text': row[lang_from]})\n",
    "    elif isinstance(text_to_translate, str):\n",
    "        body.append({'text': text_to_translate})\n",
    "        \n",
    "    request = requests.post(constructed_url, params=params, headers=headers, json=body)\n",
    "    response = request.json()\n",
    "\n",
    "    results = [item['translations'][0]['text'] for item in response]\n",
    "    return results"
   ]
  },
  {
   "cell_type": "code",
   "execution_count": 12,
   "id": "74e11d5e",
   "metadata": {},
   "outputs": [],
   "source": [
    "def parse_cortexcomplete_response(llm_output):\n",
    "    \"\"\"\n",
    "    parse the text returned from Cortex Complete to get the translation\n",
    "    \"\"\"\n",
    "    return output_parser.parse(output)"
   ]
  },
  {
   "cell_type": "code",
   "execution_count": 13,
   "id": "7d6351e7",
   "metadata": {},
   "outputs": [],
   "source": [
    "def run_and_compare(text_to_traslate, lang_pairs=None):\n",
    "    if lang_pairs is None:\n",
    "        lang_pairs = LANG_PAIRS\n",
    "        lang_from, lang_to = LANG_PAIRS.split('-')\n",
    "        \n",
    "    print_valuation"
   ]
  },
  {
   "cell_type": "markdown",
   "id": "7a3a4484",
   "metadata": {},
   "source": [
    "# Get data"
   ]
  },
  {
   "cell_type": "markdown",
   "id": "e81b4e91",
   "metadata": {},
   "source": [
    "## Gender accuracy dataset"
   ]
  },
  {
   "cell_type": "code",
   "execution_count": 15,
   "id": "9ad390cc",
   "metadata": {},
   "outputs": [],
   "source": [
    "if not LOCAL:\n",
    "    # Huggingface https://huggingface.co/datasets/gsarti/mt_geneval/viewer/context_en_es/test\n",
    "    gender_acc = datasets.load_dataset('gsarti/mt_geneval', 'context_en_es')\n",
    "    gender_acc_df_train = pd.DataFrame(gender_acc['train'])\n",
    "    gender_acc_df_test = pd.DataFrame(gender_acc['test'])"
   ]
  },
  {
   "cell_type": "code",
   "execution_count": null,
   "id": "d61a3164",
   "metadata": {},
   "outputs": [],
   "source": []
  },
  {
   "cell_type": "markdown",
   "id": "92570b41",
   "metadata": {},
   "source": [
    "## Thermostatic/parallel_corpus_europarl_english_spanish"
   ]
  },
  {
   "cell_type": "code",
   "execution_count": 16,
   "id": "16fd102c",
   "metadata": {},
   "outputs": [],
   "source": [
    "force_remote = False\n",
    "file_name = 'es_en_corpus_train.tsv'\n",
    "if LOCAL and not force_remote:\n",
    "    paral_es_en_corpus_df_train = pd.read_csv(file_name, sep='\\t', index_col=False)\n",
    "else:\n",
    "    # https://huggingface.co/datasets/Thermostatic/parallel_corpus_europarl_english_spanish\n",
    "    paral_es_en_corpus = datasets.load_dataset('Thermostatic/parallel_corpus_europarl_english_spanish')\n",
    "    paral_es_en_corpus_df_train = pd.DataFrame(paral_es_en_corpus['train'])\n",
    "\n",
    "    paral_es_en_corpus_df_train.to_csv(file_name, sep='\\t', index=False)"
   ]
  },
  {
   "cell_type": "code",
   "execution_count": 17,
   "id": "33b4242e",
   "metadata": {},
   "outputs": [
    {
     "name": "stdout",
     "output_type": "stream",
     "text": [
      "(1965734, 2)\n"
     ]
    },
    {
     "data": {
      "text/html": [
       "<div>\n",
       "<style scoped>\n",
       "    .dataframe tbody tr th:only-of-type {\n",
       "        vertical-align: middle;\n",
       "    }\n",
       "\n",
       "    .dataframe tbody tr th {\n",
       "        vertical-align: top;\n",
       "    }\n",
       "\n",
       "    .dataframe thead th {\n",
       "        text-align: right;\n",
       "    }\n",
       "</style>\n",
       "<table border=\"1\" class=\"dataframe\">\n",
       "  <thead>\n",
       "    <tr style=\"text-align: right;\">\n",
       "      <th></th>\n",
       "      <th>en</th>\n",
       "      <th>es</th>\n",
       "    </tr>\n",
       "  </thead>\n",
       "  <tbody>\n",
       "    <tr>\n",
       "      <th>0</th>\n",
       "      <td>Resumption of the session</td>\n",
       "      <td>Reanudación del período de sesiones</td>\n",
       "    </tr>\n",
       "    <tr>\n",
       "      <th>1</th>\n",
       "      <td>I declare resumed the session of the European ...</td>\n",
       "      <td>Declaro reanudado el período de sesiones del P...</td>\n",
       "    </tr>\n",
       "    <tr>\n",
       "      <th>2</th>\n",
       "      <td>Although, as you will have seen, the dreaded '...</td>\n",
       "      <td>Como todos han podido comprobar, el gran \"efec...</td>\n",
       "    </tr>\n",
       "    <tr>\n",
       "      <th>3</th>\n",
       "      <td>You have requested a debate on this subject in...</td>\n",
       "      <td>Sus Señorías han solicitado un debate sobre el...</td>\n",
       "    </tr>\n",
       "    <tr>\n",
       "      <th>4</th>\n",
       "      <td>In the meantime, I should like to observe a mi...</td>\n",
       "      <td>A la espera de que se produzca, de acuerdo con...</td>\n",
       "    </tr>\n",
       "  </tbody>\n",
       "</table>\n",
       "</div>"
      ],
      "text/plain": [
       "                                                  en  \\\n",
       "0                          Resumption of the session   \n",
       "1  I declare resumed the session of the European ...   \n",
       "2  Although, as you will have seen, the dreaded '...   \n",
       "3  You have requested a debate on this subject in...   \n",
       "4  In the meantime, I should like to observe a mi...   \n",
       "\n",
       "                                                  es  \n",
       "0                Reanudación del período de sesiones  \n",
       "1  Declaro reanudado el período de sesiones del P...  \n",
       "2  Como todos han podido comprobar, el gran \"efec...  \n",
       "3  Sus Señorías han solicitado un debate sobre el...  \n",
       "4  A la espera de que se produzca, de acuerdo con...  "
      ]
     },
     "metadata": {},
     "output_type": "display_data"
    }
   ],
   "source": [
    "print(paral_es_en_corpus_df_train.shape)\n",
    "display(paral_es_en_corpus_df_train.head())"
   ]
  },
  {
   "cell_type": "markdown",
   "id": "e4875add",
   "metadata": {},
   "source": [
    "## sample data"
   ]
  },
  {
   "cell_type": "code",
   "execution_count": 18,
   "id": "c92907ba",
   "metadata": {},
   "outputs": [],
   "source": [
    "sample_size = 10\n",
    "sample = paral_es_en_corpus_df_train.head(sample_size)"
   ]
  },
  {
   "cell_type": "code",
   "execution_count": 19,
   "id": "65793407",
   "metadata": {},
   "outputs": [],
   "source": [
    "sentense_length = 20\n",
    "single_text_es = '. '.join(paral_es_en_corpus_df_train.head(sentense_length)['es'].tolist())\n",
    "single_text_en = '. '.join(paral_es_en_corpus_df_train.head(sentense_length)['en'].tolist())"
   ]
  },
  {
   "cell_type": "code",
   "execution_count": 20,
   "id": "a55b6c36",
   "metadata": {},
   "outputs": [
    {
     "name": "stdout",
     "output_type": "stream",
     "text": [
      "443\n"
     ]
    }
   ],
   "source": [
    "# count number of words\n",
    "print(len(single_text_es.split(' ')))"
   ]
  },
  {
   "cell_type": "markdown",
   "id": "acad70fd",
   "metadata": {},
   "source": [
    "# Snowflake Cortex translate"
   ]
  },
  {
   "cell_type": "markdown",
   "id": "043b5355",
   "metadata": {},
   "source": [
    "Let's try this in two different ways: one sentence at a time, and one big chunk of text.\n",
    "\n",
    "## Short sentences"
   ]
  },
  {
   "cell_type": "code",
   "execution_count": 21,
   "id": "77468e73",
   "metadata": {},
   "outputs": [
    {
     "name": "stdout",
     "output_type": "stream",
     "text": [
      "CPU times: user 190 ms, sys: 49.9 ms, total: 240 ms\n",
      "Wall time: 5.71 s\n"
     ]
    }
   ],
   "source": [
    "%%time\n",
    "sf_sys = []\n",
    "for idx, row in sample.iterrows():\n",
    "    resp = Translate(row[lang_from], from_language=lang_from, to_language=lang_to)\n",
    "    sf_sys.append(resp)"
   ]
  },
  {
   "cell_type": "code",
   "execution_count": 22,
   "id": "93fa0b0e",
   "metadata": {},
   "outputs": [
    {
     "name": "stdout",
     "output_type": "stream",
     "text": [
      "bleu: 0.258\n",
      "chrf: 5.16\n"
     ]
    }
   ],
   "source": [
    "print_valuation(ref=sample, sys=sf_sys)"
   ]
  },
  {
   "cell_type": "markdown",
   "id": "bf3ecfe6",
   "metadata": {},
   "source": [
    "## One long body of text"
   ]
  },
  {
   "cell_type": "code",
   "execution_count": 23,
   "id": "42090489",
   "metadata": {},
   "outputs": [
    {
     "name": "stdout",
     "output_type": "stream",
     "text": [
      "CPU times: user 10.6 ms, sys: 2.93 ms, total: 13.5 ms\n",
      "Wall time: 3.07 s\n"
     ]
    }
   ],
   "source": [
    "%%time\n",
    "resp = Translate(single_text_es, from_language=lang_from, to_language=lang_to)"
   ]
  },
  {
   "cell_type": "code",
   "execution_count": 24,
   "id": "53f0e580",
   "metadata": {},
   "outputs": [
    {
     "name": "stdout",
     "output_type": "stream",
     "text": [
      "bleu: 0.0\n",
      "chrf: 100.0\n"
     ]
    }
   ],
   "source": [
    "# needs better chunking\n",
    "df_ref = [single_text_es, single_text_en]\n",
    "print_valuation(ref=df_ref, sys=resp)"
   ]
  },
  {
   "cell_type": "markdown",
   "id": "1f9c9703",
   "metadata": {},
   "source": [
    "# Using Cortex Complete"
   ]
  },
  {
   "cell_type": "markdown",
   "id": "2f60e638",
   "metadata": {},
   "source": [
    "## Without any prompt engineering"
   ]
  },
  {
   "cell_type": "code",
   "execution_count": 25,
   "id": "a7907069",
   "metadata": {},
   "outputs": [
    {
     "data": {
      "text/html": [
       "<div>\n",
       "<style scoped>\n",
       "    .dataframe tbody tr th:only-of-type {\n",
       "        vertical-align: middle;\n",
       "    }\n",
       "\n",
       "    .dataframe tbody tr th {\n",
       "        vertical-align: top;\n",
       "    }\n",
       "\n",
       "    .dataframe thead th {\n",
       "        text-align: right;\n",
       "    }\n",
       "</style>\n",
       "<table border=\"1\" class=\"dataframe\">\n",
       "  <thead>\n",
       "    <tr style=\"text-align: right;\">\n",
       "      <th></th>\n",
       "      <th>en</th>\n",
       "      <th>es</th>\n",
       "    </tr>\n",
       "  </thead>\n",
       "  <tbody>\n",
       "    <tr>\n",
       "      <th>0</th>\n",
       "      <td>Resumption of the session</td>\n",
       "      <td>Reanudación del período de sesiones</td>\n",
       "    </tr>\n",
       "    <tr>\n",
       "      <th>1</th>\n",
       "      <td>I declare resumed the session of the European ...</td>\n",
       "      <td>Declaro reanudado el período de sesiones del P...</td>\n",
       "    </tr>\n",
       "    <tr>\n",
       "      <th>2</th>\n",
       "      <td>Although, as you will have seen, the dreaded '...</td>\n",
       "      <td>Como todos han podido comprobar, el gran \"efec...</td>\n",
       "    </tr>\n",
       "    <tr>\n",
       "      <th>3</th>\n",
       "      <td>You have requested a debate on this subject in...</td>\n",
       "      <td>Sus Señorías han solicitado un debate sobre el...</td>\n",
       "    </tr>\n",
       "    <tr>\n",
       "      <th>4</th>\n",
       "      <td>In the meantime, I should like to observe a mi...</td>\n",
       "      <td>A la espera de que se produzca, de acuerdo con...</td>\n",
       "    </tr>\n",
       "    <tr>\n",
       "      <th>5</th>\n",
       "      <td>Please rise, then, for this minute' s silence.</td>\n",
       "      <td>Invito a todos a que nos pongamos de pie para ...</td>\n",
       "    </tr>\n",
       "    <tr>\n",
       "      <th>6</th>\n",
       "      <td>(The House rose and observed a minute' s silence)</td>\n",
       "      <td>(El Parlamento, de pie, guarda un minuto de si...</td>\n",
       "    </tr>\n",
       "    <tr>\n",
       "      <th>7</th>\n",
       "      <td>Madam President, on a point of order.</td>\n",
       "      <td>Señora Presidenta, una cuestión de procedimiento.</td>\n",
       "    </tr>\n",
       "    <tr>\n",
       "      <th>8</th>\n",
       "      <td>You will be aware from the press and televisio...</td>\n",
       "      <td>Sabrá usted por la prensa y la televisión que ...</td>\n",
       "    </tr>\n",
       "    <tr>\n",
       "      <th>9</th>\n",
       "      <td>One of the people assassinated very recently i...</td>\n",
       "      <td>Una de las personas que recientemente han ases...</td>\n",
       "    </tr>\n",
       "  </tbody>\n",
       "</table>\n",
       "</div>"
      ],
      "text/plain": [
       "                                                  en  \\\n",
       "0                          Resumption of the session   \n",
       "1  I declare resumed the session of the European ...   \n",
       "2  Although, as you will have seen, the dreaded '...   \n",
       "3  You have requested a debate on this subject in...   \n",
       "4  In the meantime, I should like to observe a mi...   \n",
       "5     Please rise, then, for this minute' s silence.   \n",
       "6  (The House rose and observed a minute' s silence)   \n",
       "7              Madam President, on a point of order.   \n",
       "8  You will be aware from the press and televisio...   \n",
       "9  One of the people assassinated very recently i...   \n",
       "\n",
       "                                                  es  \n",
       "0                Reanudación del período de sesiones  \n",
       "1  Declaro reanudado el período de sesiones del P...  \n",
       "2  Como todos han podido comprobar, el gran \"efec...  \n",
       "3  Sus Señorías han solicitado un debate sobre el...  \n",
       "4  A la espera de que se produzca, de acuerdo con...  \n",
       "5  Invito a todos a que nos pongamos de pie para ...  \n",
       "6  (El Parlamento, de pie, guarda un minuto de si...  \n",
       "7  Señora Presidenta, una cuestión de procedimiento.  \n",
       "8  Sabrá usted por la prensa y la televisión que ...  \n",
       "9  Una de las personas que recientemente han ases...  "
      ]
     },
     "execution_count": 25,
     "metadata": {},
     "output_type": "execute_result"
    }
   ],
   "source": [
    "sample"
   ]
  },
  {
   "cell_type": "code",
   "execution_count": 26,
   "id": "16b60cb0",
   "metadata": {},
   "outputs": [
    {
     "data": {
      "text/plain": [
       "' In English, the Spanish text <Text>Declaro reanudado el período de sesiones del Parlamento Europeo, interrumpido el viernes 17 de diciembre pasado, y reitero a Sus Señorías mi deseo de que hayan tenido unas buenas vacaciones.</Text> translates to:\\n\\n\"I declare resumed the session period of the European Parliament, interrupted on Friday, December 17th, and once again express to Your Lordships my wish that you have had a good holiday.\"\\n\\nExplanation:\\n- \"Declaro reanudado el período de sesiones del Parlamento Europeo\" = \"I declare resumed the session period of the European Parliament\"\\n- \"interrumpido el viernes 17 de diciembre pasado\" = \"interrupted on Friday, December 17th\"\\n- \"y reitero a Sus Señorías mi deseo de que hayan tenido unas buenas vacaciones\" = \"and once again express to Your Lordships my wish that you have had a good holiday\"'"
      ]
     },
     "execution_count": 26,
     "metadata": {},
     "output_type": "execute_result"
    }
   ],
   "source": [
    "translate_llm_simple(sample.loc[1, lang_from])"
   ]
  },
  {
   "cell_type": "code",
   "execution_count": 27,
   "id": "33be7692",
   "metadata": {},
   "outputs": [
    {
     "data": {
      "text/plain": [
       "'I declare the period of sessions of the European Parliament, interrupted last Friday, December 17, resumed, and I repeat to Your Lordships my wish that you have had a good vacation.'"
      ]
     },
     "execution_count": 27,
     "metadata": {},
     "output_type": "execute_result"
    }
   ],
   "source": [
    "translate_llm_simple(text_to_translate=sample.loc[1, lang_from], model=\"mistral-large\").strip()"
   ]
  },
  {
   "cell_type": "markdown",
   "id": "89b4e990",
   "metadata": {},
   "source": [
    "## Prompt I wrote originally"
   ]
  },
  {
   "cell_type": "code",
   "execution_count": 28,
   "id": "ab9c51bc",
   "metadata": {},
   "outputs": [],
   "source": [
    "# setup Cortex Complete function\n",
    "model_list = [\n",
    "    \"snowflake-arctic\",\n",
    "    \"mistral-large\",\n",
    "    \"reka-flash\",\n",
    "    \"reka-core\",\n",
    "    \"mixtral-8x7b\",\n",
    "    \"llama3-8b\",\n",
    "    \"llama3-70b\",\n",
    "    \"mistral-7b\"\n",
    "]"
   ]
  },
  {
   "cell_type": "code",
   "execution_count": 60,
   "id": "c2638060",
   "metadata": {},
   "outputs": [
    {
     "name": "stdout",
     "output_type": "stream",
     "text": [
      " Here is my translation of the given text from Spanish to English, aiming for a concise translation:\n",
      "\n",
      "```\n",
      "Reanudación del período de sesiones -> Resumption of the session period\n",
      "```\n",
      "\n",
      "Explanation:\n",
      "- \"Reanudación\" in Spanish means \"resumption\" in English.\n",
      "- \"Del período de sesiones\" in Spanish means \"of the session period\" in English.\n",
      "\n",
      "So, the complete translation is: \"Resumption of the session period\"\n"
     ]
    }
   ],
   "source": [
    "cc_resp = translate_prompt_orig(sample.loc[0, lang_from])\n",
    "print(cc_resp)"
   ]
  },
  {
   "cell_type": "code",
   "execution_count": 88,
   "id": "45173e13",
   "metadata": {},
   "outputs": [
    {
     "data": {
      "text/plain": [
       "'Resumption of the session period\\n'"
      ]
     },
     "execution_count": 88,
     "metadata": {},
     "output_type": "execute_result"
    }
   ],
   "source": [
    "cc_resp.split('```')[1].split(' -> ')[1]"
   ]
  },
  {
   "cell_type": "markdown",
   "id": "82695281",
   "metadata": {},
   "source": [
    "## With a prompt taken from Anthropic"
   ]
  },
  {
   "cell_type": "code",
   "execution_count": 72,
   "id": "0179b93d",
   "metadata": {},
   "outputs": [
    {
     "name": "stdout",
     "output_type": "stream",
     "text": [
      " In English, \"Reanudaci\\u00f3n del per\\u00edodo de sesiones\" translates to \"Resumption of the session period\". \n",
      "\n",
      "Explanation:\n",
      "- \"Reanudaci\\u00f3n\" means \"resumption\" or \"continuation\" in English.\n",
      "- \"del per\\u00edodo de sesiones\" means \"of the session period\" in English. \n",
      "\n",
      "So, combining these words, we get \"Resumption of the session period\" as the accurate translation while preserving the meaning, tone, and nuance of the original text.\n",
      "\n",
      "\n"
     ]
    }
   ],
   "source": [
    "print(translate_prompt_anth(sample.loc[0, lang_from]))"
   ]
  },
  {
   "cell_type": "markdown",
   "id": "7898bba2",
   "metadata": {},
   "source": [
    "# Azure AI Translator"
   ]
  },
  {
   "cell_type": "markdown",
   "id": "92f029f8",
   "metadata": {},
   "source": [
    "## short sentences"
   ]
  },
  {
   "cell_type": "code",
   "execution_count": 90,
   "id": "75a08c44",
   "metadata": {},
   "outputs": [
    {
     "name": "stdout",
     "output_type": "stream",
     "text": [
      "bleu: 0.257\n",
      "chrf: 5.25\n"
     ]
    }
   ],
   "source": [
    "az_sys = az_translate(sample)\n",
    "\n",
    "print_valuation(ref=sample, sys=az_sys)"
   ]
  },
  {
   "cell_type": "markdown",
   "id": "ac845200",
   "metadata": {},
   "source": [
    "## One long text"
   ]
  },
  {
   "cell_type": "code",
   "execution_count": 89,
   "id": "c6a2c2cb",
   "metadata": {},
   "outputs": [
    {
     "name": "stdout",
     "output_type": "stream",
     "text": [
      "bleu: 0.124\n",
      "chrf: 0.24\n"
     ]
    }
   ],
   "source": [
    "df_ref = [single_text_es, single_text_en]\n",
    "\n",
    "az_sys = az_translate(single_text_es)\n",
    "\n",
    "print_valuation(ref=df_ref, sys=az_sys)"
   ]
  },
  {
   "cell_type": "markdown",
   "id": "dbb828f4",
   "metadata": {},
   "source": [
    "# Pass any text and compare results"
   ]
  },
  {
   "cell_type": "code",
   "execution_count": 21,
   "id": "a7cf21cb",
   "metadata": {},
   "outputs": [],
   "source": [
    "USE_CASE_1 = \"\"\"\n",
    "Hola estoy llamando porque tengo interés en uno de tus autos que vi en el internet. ¿Veo que tienes muchas trocas de venta y me gustaría saber si tienes mas sales? Prefiero tener un truck de marca Americano como GMC, Chevy or Ford. Ahorita tengo un Honda Accord del año 2019 y mi pago mensual es $500. Ya casi está paid off pero me falta solo $5,000 en el loan. Se que una troca me costaria mas cada mes pero prefiero que mi pago no sea más de $750 al mes. No lo quiero financiar por más de 72 months. ¿Estoy planeando hacer un trade-in y estoy curioso en cuanto me van a dar para mi Honda Accord? Hice mi research y veo que mi carro está valorado a aproximadamente $22,500. ¿Crees que me puedes dar eso para ir towards una troca? Puedo traer mi Honda Accord hoy al dealership para que you can check it out. La verdad es que está en buenas condiciones. Ahora les voy a decir más detalles del tipo de troca que quiero. \n",
    "Quiero una troca del año pero si no se puede hacer eso, yo aceptaría una troca que esté más nuevecita. Prefiero que sea black or blue y que tenga llantas grandes con un mínimo de 19 inches. Quiero que el material interior sea del color black. No me importa si tiene un sunroof pero sí necesita tener un truck bed de 6.5 pies. También quiero que sea four-wheel drive y que los asientos tengan heat y aire acondicionado. Y lo último que les voy a pedir es que la troca sea más económica cuando se trata del gas mileage. Se que usualmente las trocas burn up gas mileage pero ojala me puedan entroncar una troca que me puede ahorrar gas.\n",
    "Muchas gracias por ayudarme.\"\"\""
   ]
  },
  {
   "cell_type": "code",
   "execution_count": 22,
   "id": "67ec8d50",
   "metadata": {},
   "outputs": [],
   "source": [
    "USE_CASE_2 = \"\"\"Buenos dias. Estoy interesada en el white Honda Odyssey 2022 con tan interior que tienen en venta. La verdad es que tengo 4 hijos y necesito mucho espacio porque siempre ando para arriba y abajo por todos lados. En este momento estoy manejando un Mazda 5 pero es del año 2015 y estamos apretados en el minivan. Necesito mucho más espacio en el trunk para el soccer equipment y el mandado. My Mazda 5 ya está pagado en full y esta en okay condición. Tiene algunos problemas y los brakes no funcionan muy bien. Pero no quiero gastar dinero en arreglarlo y prefiero poner ese dinero hacia un van más nueva. Se que lo estás vendiendo por $34,999 pero yo solo puedo pagar $32,000 total out the door. Tengo interés en un warranty pero lo máximo que puedo pagar para agregarlo es $500. También me gustaría hacer un trade-in and I need at least $10,000 de eso para comprar el Honda Odyssey. ¿Y por casualidad ustedes podrían darme unos weathermats? Con mis hijos se ponen bien sucio los pisos del van y necesito algo que me ayude a mantenerlos limpios. ¿Necesito saber qué safety features tiene este ven? La seguridad del van es muy importante para mi familia. Puedo venir al dealership mañana para hablar más sobre todos los detalles. Talk soon.\n",
    "\"\"\""
   ]
  },
  {
   "cell_type": "code",
   "execution_count": 23,
   "id": "bc4bf170",
   "metadata": {},
   "outputs": [
    {
     "name": "stderr",
     "output_type": "stream",
     "text": [
      "WARNING:snowflake.snowpark:Complete() is experimental since 1.0.12. Do not use it in production. \n"
     ]
    }
   ],
   "source": [
    "use_cases = {'use_case_1': USE_CASE_1, 'use_case_2': USE_CASE_2}\n",
    "compare_results = dict()\n",
    "for key in use_cases:\n",
    "    our_solution = translate_llm_simple(text_to_translate=use_cases[key], model=\"mistral-large\")\n",
    "    azure_soluion = az_translate(text_to_translate=use_cases[key])\n",
    "    compare_results[key] = {'A': our_solution, 'B': azure_soluion}"
   ]
  },
  {
   "cell_type": "code",
   "execution_count": 24,
   "id": "84b6702d",
   "metadata": {},
   "outputs": [
    {
     "name": "stdout",
     "output_type": "stream",
     "text": [
      "{\n",
      "    \"use_case_1\": {\n",
      "        \"A\": \" Hello, I am calling because I am interested in one of your cars that I saw on the internet. I see that you have many trucks for sale and I would like to know if you have more sales? I prefer to have an American brand truck like GMC, Chevy or Ford. Right now I have a Honda Accord from the year 2019 and my monthly payment is $500. It is almost paid off but I still owe $5,000 on the loan. I know that a truck will cost me more each month but I prefer that my payment not be more than $750 a month. I don't want to finance it for more than 72 months. I am planning to do a trade-in and I am curious how much you will give me for my Honda Accord? I did my research and I see that my car is valued at approximately $22,500. Do you think you can give me that to go towards a truck? I can bring my Honda Accord today to the dealership for you to check it out. The truth is that it is in good condition. Now I am going to tell you more details about the type of truck I want.\\nI want a truck from this year but if that can't be done, I would accept a truck that is newer. I prefer it to be black or blue and to have large wheels with a minimum of 19 inches. I want the interior material to be black. I don't mind if it has a sunroof but it does need to have a truck bed of 6.5 feet. I also want it to be four-wheel drive and for the seats to have heat and air conditioning. And the last thing I am going to ask is that the truck be more economical when it comes to gas mileage. I know that usually trucks burn up gas mileage but hopefully you can hook me up with a truck that can save me gas.\\nThank you very much for helping me.\",\n",
      "        \"B\": [\n",
      "            \"\\nHi, I'm calling because I'm interested in one of your cars that I saw on the internet. I see that you have a lot of trucks for sale and I would like to know if you have more sales? I prefer to have an American brand truck like GMC, Chevy or Ford. Right now I have a 2019 Honda Accord and my monthly payment is $500. It's almost paid off but I'm only $5,000 short on the loan. I know a truck would cost me more each month but I prefer my payment to be no more than $750 a month. I don't want to finance it for more than 72 months. Am I planning to trade-in and am curious about how much I will get for my Honda Accord? I did my research and I see that my car is valued at approximately $22,500. Do you think you can give me that to go towards a truck? I can bring my Honda Accord to the dealership today so you can check it out. The truth is that it is in good condition. Now I'm going to tell you more details about the type of truck I want. \\nI want a truck of the year but if you can't do that, I would accept a truck that is newer. I prefer it to be black or blue and have large rims with a minimum of 19 inches. I want the inner material to be black. I don't mind if you have a sunroof but you do need to have a 6.5 foot truck bed. I also want it to be four-wheel drive and for the seats to have heat and air conditioning. And the last thing I'm going to ask you is that the truck be more economical when it comes to gas mileage. I know that usually burn up gas mileage trucks but hopefully they can connect me with a truck that can save me gas.\\nThank you very much for helping me.\"\n",
      "        ]\n",
      "    },\n",
      "    \"use_case_2\": {\n",
      "        \"A\": \" Good morning. I am interested in the white Honda Odyssey 2022 with tan interior that you have for sale. The truth is that I have 4 children and I need a lot of space because I am always on the go everywhere. At this moment I am driving a Mazda 5 but it is from the year 2015 and we are cramped in the minivan. I need a lot more space in the trunk for the soccer equipment and the groceries. My Mazda 5 is already paid in full and is in okay condition. It has some problems and the brakes don't work very well. But I don't want to spend money on fixing it and I prefer to put that money towards a newer van. I know you are selling it for $34,999 but I can only pay $32,000 total out the door. I am interested in a warranty but the maximum I can pay to add it is $500. I would also like to do a trade-in and I need at least $10,000 from that to buy the Honda Odyssey. By any chance could you give me some weather mats? With my children, the floors of the van get very dirty and I need something to help me keep them clean. Do I need to know what safety features this van has? The safety of the van is very important to my family. I can come to the dealership tomorrow to talk more about all the details. Talk soon.\",\n",
      "        \"B\": [\n",
      "            \"Good morning. I'm interested in the white Honda Odyssey 2022 with so interior they have for sale. The truth is that I have 4 children and I need a lot of space because I am always up and down everywhere. Right now I'm driving a Mazda 5 but it's from 2015 and we're squeezed into the minivan. I need a lot more trunk space for soccer equipment and errands. My Mazda 5 is already paid for in full and is in good condition. It has some problems and the brakes don't work very well. But I don't want to spend money on fixing it and I'd rather put that money toward a newer van. I know you're selling it for $34,999 but I can only afford $32,000 total out the door. I have an interest in a warranty but the most I can afford to add it is $500. I'd also like to trade-in and I need at least $10,000 of that to buy the Honda Odyssey. And by chance you could give me some weathermats? With my kids the floors of the van get really dirty and I need something to help me keep them clean. Do I need to know what safety features this ven has? The safety of the van is very important to my family. I can come to the dealership tomorrow to talk more about all the details. Talk soon.\\n\"\n",
      "        ]\n",
      "    }\n",
      "}\n"
     ]
    }
   ],
   "source": [
    "\n",
    "print(json.dumps(compare_results, sort_keys=True, ensure_ascii=False, indent=4, separators=(',', ': ')))\n"
   ]
  },
  {
   "cell_type": "code",
   "execution_count": 25,
   "id": "0d7ea563",
   "metadata": {},
   "outputs": [
    {
     "name": "stdout",
     "output_type": "stream",
     "text": [
      "{\n",
      "    \"use_case_1\": \"\\nHola estoy llamando porque tengo interés en uno de tus autos que vi en el internet. ¿Veo que tienes muchas trocas de venta y me gustaría saber si tienes mas sales? Prefiero tener un truck de marca Americano como GMC, Chevy or Ford. Ahorita tengo un Honda Accord del año 2019 y mi pago mensual es $500. Ya casi está paid off pero me falta solo $5,000 en el loan. Se que una troca me costaria mas cada mes pero prefiero que mi pago no sea más de $750 al mes. No lo quiero financiar por más de 72 months. ¿Estoy planeando hacer un trade-in y estoy curioso en cuanto me van a dar para mi Honda Accord? Hice mi research y veo que mi carro está valorado a aproximadamente $22,500. ¿Crees que me puedes dar eso para ir towards una troca? Puedo traer mi Honda Accord hoy al dealership para que you can check it out. La verdad es que está en buenas condiciones. Ahora les voy a decir más detalles del tipo de troca que quiero. \\nQuiero una troca del año pero si no se puede hacer eso, yo aceptaría una troca que esté más nuevecita. Prefiero que sea black or blue y que tenga llantas grandes con un mínimo de 19 inches. Quiero que el material interior sea del color black. No me importa si tiene un sunroof pero sí necesita tener un truck bed de 6.5 pies. También quiero que sea four-wheel drive y que los asientos tengan heat y aire acondicionado. Y lo último que les voy a pedir es que la troca sea más económica cuando se trata del gas mileage. Se que usualmente las trocas burn up gas mileage pero ojala me puedan entroncar una troca que me puede ahorrar gas.\\nMuchas gracias por ayudarme.\",\n",
      "    \"use_case_2\": \"Buenos dias. Estoy interesada en el white Honda Odyssey 2022 con tan interior que tienen en venta. La verdad es que tengo 4 hijos y necesito mucho espacio porque siempre ando para arriba y abajo por todos lados. En este momento estoy manejando un Mazda 5 pero es del año 2015 y estamos apretados en el minivan. Necesito mucho más espacio en el trunk para el soccer equipment y el mandado. My Mazda 5 ya está pagado en full y esta en okay condición. Tiene algunos problemas y los brakes no funcionan muy bien. Pero no quiero gastar dinero en arreglarlo y prefiero poner ese dinero hacia un van más nueva. Se que lo estás vendiendo por $34,999 pero yo solo puedo pagar $32,000 total out the door. Tengo interés en un warranty pero lo máximo que puedo pagar para agregarlo es $500. También me gustaría hacer un trade-in and I need at least $10,000 de eso para comprar el Honda Odyssey. ¿Y por casualidad ustedes podrían darme unos weathermats? Con mis hijos se ponen bien sucio los pisos del van y necesito algo que me ayude a mantenerlos limpios. ¿Necesito saber qué safety features tiene este ven? La seguridad del van es muy importante para mi familia. Puedo venir al dealership mañana para hablar más sobre todos los detalles. Talk soon.\\n\"\n",
      "}\n"
     ]
    }
   ],
   "source": [
    "print(json.dumps(use_cases, sort_keys=True, ensure_ascii=False, indent=4, separators=(',', ': ')))\n"
   ]
  },
  {
   "cell_type": "markdown",
   "id": "3a17a727",
   "metadata": {},
   "source": [
    "## Evaluation from ChatGPT:\n",
    "\n",
    "### Use case 1\n",
    "\n",
    "#### Snowflake:\n",
    "\n",
    "- Score: **85**\n",
    "\n",
    "- Evaluation:\n",
    "\n",
    "    - Accuracy: The translation is mostly accurate but has minor inaccuracies. For example, \"¿Veo que tienes muchas trocas de venta y me gustaría saber si tienes más sales?\" is translated as \"I see that you have many trucks for sale and I would like to know if you have more sales?\" which is slightly off in meaning.\n",
    "    - Clarity: Clear and easy to understand.\n",
    "    - Naturalness: It reads naturally but has a few awkward phrasings like \"to go towards a truck.\"\n",
    "\n",
    "#### Azure:\n",
    "\n",
    "- Score: **70**\n",
    "\n",
    "- Evaluation:\n",
    "\n",
    "    - Accuracy: The translation has more inaccuracies. For instance, \"Am I planning to trade-in and am curious about how much I will get for my Honda Accord?\" is incorrect. The original text is \"¿Estoy planeando hacer un trade-in y estoy curioso en cuanto me van a dar para mi Honda Accord?\"\n",
    "    - Clarity: The translation is clear, but some parts are confusing, such as the awkward phrasing in \"Am I planning to trade-in.\"\n",
    "    - Naturalness: Less natural than the first translation, with some awkward phrasing and grammatical issues.\n",
    "\n",
    "Both translations are good, but the first one is more accurate and reads more naturally than the second."
   ]
  },
  {
   "cell_type": "markdown",
   "id": "0f5af673",
   "metadata": {},
   "source": [
    "### Use case 2\n",
    "\n",
    "#### Snowflake\n",
    "\n",
    "- Score: 90\n",
    "\n",
    "- Evaluation:\n",
    "\n",
    "    - Accuracy: The translation is accurate, with minor inaccuracies. For example, \"tan interior\" is correctly translated but the phrasing \"I am always going up and down everywhere\" could be improved.\n",
    "    - Clarity: The translation is clear and easy to understand.\n",
    "    - Naturalness: It reads naturally with only a few awkward phrases.\n",
    "\n",
    "#### Azure\n",
    "\n",
    "- Score: 70\n",
    "\n",
    "- Evaluation:\n",
    "\n",
    "    - Accuracy: There are more inaccuracies here, such as \"so interior\" instead of \"tan interior,\" and \"ven\" instead of \"van.\"\n",
    "    - Clarity: The translation is mostly clear but has some confusing parts due to inaccuracies.\n",
    "    - Naturalness: The translation is less natural, with more awkward phrasing and grammatical issues compared to the first translation.\n",
    "\n",
    "Both translations are good, but the first one is more accurate and reads more naturally than the second."
   ]
  },
  {
   "cell_type": "markdown",
   "id": "5127c2a1",
   "metadata": {},
   "source": [
    "# Human judge\n",
    "\n",
    "So for the first use case... I have put in `**bolded and red**` where I feel like each model did better as far as the translation goes. I put in **bold** what is being compared. And did **bold** and ~~strikethrough~~ text to indicate it was a miss on what was written. So, as you can see here, `**A is the clear winner.**`\n",
    "\n",
    "- \"use_case_1\":\n",
    "  \n",
    "    - \"A\": \" Hello, I'm calling because I'm interested in one of your cars that I saw on the internet. I see that you have many trucks for sale and I would like to know if you have more sales? I prefer to have an American brand truck like GMC, Chevy or Ford. Right now I have a Honda Accord from the year 2019 and my monthly payment is \\\\$500. It's almost paid off `**but I still owe \\\\$5,000 on the loan.**` I know a truck would cost me more each month but I prefer that my payment not be more than \\\\$750 a month. I don't want to finance it for more than 72 months. `**I'm planning on doing a trade-in and I'm curious how much you'll give me for my Honda Accord?**` I did my research and I see that my car is valued at approximately \\\\$22,500. Do you think you can give me that to go towards a truck? I can bring my Honda Accord today to the dealership for you to check it out. The truth is that it's in good conditions. Now I'm going to tell you more details about the type of truck I want.\\n**I want a truck from this year but if that can't be done**, I would accept a truck that is newer. I prefer it to be black or blue and that it has large wheels with a minimum of 19 inches. `**I want the interior material to be black. I don't mind if it has a sunroof but it does need to have a truck bed of 6.5 feet.**` I also want it to be four-wheel drive and that the seats have heat and air conditioning. And the last thing I'm going to ask is that the truck be more economical when it comes to gas mileage.` **I know that usually trucks burn up gas mileage but hopefully you can hook me up with a truck that can save me gas.**`\\nThank you very much for helping me.\",\n",
    "    \n",
    "    - \"B\": \"\\nHi, I'm calling because I'm interested in one of your cars that I saw on the internet. I see that you have a lot of trucks for sale and I would like to know if you have more sales? I prefer to have an American brand truck like GMC, Chevy or Ford. Right now I have a 2019 Honda Accord and my monthly payment is \\\\$500. It's almost paid off ~~but I'm only \\\\$5,000 short on the loan~~. I know a truck would cost me more each month but I prefer my payment to be no more than \\\\$750 a month. I don't want to finance it for more than 72 months. ~~Am I~~ **planning to trade-in and am curious about how much I will get for my Honda Accord?** I did my research and I see that my car is valued at approximately \\\\$22,500. Do you think you can give me that to go towards a truck? I can bring my Honda Accord to the dealership today so you can check it out. The truth is that it is in good condition. Now I'm going to tell you more details about the type of truck I want. \\n`**I want a truck of the year but if you can't do that,**` `I would accept a truck that is newer. I prefer it to be black or blue and have large rims with a minimum of 19 inches. **I want the inner material to be black. I don't mind if you have a sunroof but you do need to have a 6.5 foot truck bed**. I also want it to be four-wheel drive and for the seats to have heat and air conditioning. And the last thing I'm going to ask you is that the truck be more economical when it comes to gas mileage. ~~I know that usually burn up gas mileage trucks~~ **but hopefully they can connect me with a truck that can save me gas.\\nThank you very much for helping me.\"**\n",
    "  },\n",
    "\n",
    "And for use case 2.... `**A is also the winner.** `\n",
    "\n",
    "- \"use_case_2\":\n",
    "\n",
    "    - \"A\": \" Good morning. `**I am interested in the white Honda Odyssey 2022 with tan interior that you have for sale**`. The truth is that I have 4 children and I need a lot of space `**because I am always going up and down everywhere.**` At this moment I am driving a Mazda 5 but it is from the year 2015 `**and we are cramped in the minivan**`. I need a lot more space in the trunk for the soccer equipment `**and the groceries.**` My Mazda 5 is already paid in full `**and is in okay condition.**` It has some problems and the brakes don't work very well. But I don't want to spend money on fixing it and I prefer to put that money towards a newer van. I know you are selling it for \\\\$34,999 but I can only pay \\\\$32,000 total out the door. `**I am interested in a warranty but the maximum I can pay to add it is $500**`. `**I would also like to do a trade-in and I need at least $10,000 from that to buy the Honda Odyssey**`. `**And by chance could you give me some weather mats?** `With my children, the floors of the van get very dirty and I need something to help me keep them clean. Do I need to know what safety features this van has? The safety of the van is very important to my family. I can come to the dealership tomorrow to talk more about all the details. Talk soon.\",\n",
    "    \n",
    "    - \"B\": \"Good morning. **I'm interested in the white Honda Odyssey 2022**  ~~with so interior~~ **they have for sale**. The truth is that I have 4 children and I need a lot of space **because I am always up and down everywhere.** Right now I'm driving a Mazda 5 but it's from 2015 **and we're squeezed into the minivan**. I need a lot more trunk space for soccer equipment **and errands.** My Mazda 5 is already paid for in full ~~and is in good condition~~. It has some problems and the brakes don't work very well. But I don't want to spend money on fixing it and I'd rather put that money toward a newer van. I know you're selling it for \\\\$34,999 but I can only afford $\\$$32,000 total out the door. **I have an interest in a warranty but the most I can afford** ~~to add it is~~ **\\\\$500**. **I'd also like to trade-in and I need at least \\\\$10,000 of that to buy the Honda Odyssey.** **And by chance** ~~you could give me~~ **some weathermats?** With my kids the floors of the van get really dirty and I need something to help me keep them clean. Do I need to know what safety features this ~~ven~~ has? The safety of the van is very important to my family. I can come to the dealership tomorrow to talk more about all the details. Talk soon.\\n\""
   ]
  },
  {
   "cell_type": "markdown",
   "id": "6f952e7e",
   "metadata": {},
   "source": [
    "# Compare Translate to Azure"
   ]
  },
  {
   "cell_type": "code",
   "execution_count": 27,
   "id": "35e7eda5",
   "metadata": {},
   "outputs": [],
   "source": [
    "compare_results_translate = dict()\n",
    "for key in use_cases:\n",
    "    our_solution = Translate(use_cases[key], from_language=lang_from, to_language=lang_to)\n",
    "    azure_soluion = az_translate(text_to_translate=use_cases[key])\n",
    "    compare_results_translate[key] = {'Snowflake_translate': our_solution, 'Azure': azure_soluion}"
   ]
  },
  {
   "cell_type": "code",
   "execution_count": 29,
   "id": "0ae91a84",
   "metadata": {},
   "outputs": [
    {
     "data": {
      "text/plain": [
       "{'use_case_1': {'Snowflake_translate': \"I am trying to ask for a colored car, but I want to get the heat. I'm looking at the last 19th of your cars that I saw on the internet or I can call them because they are in the middle of the sun. I see you have many sales and I would like to know if you have more sales? I prefer to have an American brand truck as GMC, Chevy or Ford. I don't think I have a Honda Accord from 2019 and my monthly payment is $500. It's almost paid off for gas but I just need to do some research\",\n",
       "  'Azure': [\"\\nHi, I'm calling because I'm interested in one of your cars that I saw on the internet. I see that you have a lot of trucks for sale and I would like to know if you have more sales? I prefer to have an American brand truck like GMC, Chevy or Ford. Right now I have a 2019 Honda Accord and my monthly payment is $500. It's almost paid off but I'm only $5,000 short on the loan. I know a truck would cost me more each month but I prefer my payment to be no more than $750 a month. I don't want to finance it for more than 72 months. Am I planning to trade-in and am curious about how much I will get for my Honda Accord? I did my research and I see that my car is valued at approximately $22,500. Do you think you can give me that to go towards a truck? I can bring my Honda Accord to the dealership today so you can check it out. The truth is that it is in good condition. Now I'm going to tell you more details about the type of truck I want. \\nI want a truck of the year but if you can't do that, I would accept a truck that is newer. I prefer it to be black or blue and have large rims with a minimum of 19 inches. I want the inner material to be black. I don't mind if you have a sunroof but you do need to have a 6.5 foot truck bed. I also want it to be four-wheel drive and for the seats to have heat and air conditioning. And the last thing I'm going to ask you is that the truck be more economical when it comes to gas mileage. I know that usually burn up gas mileage trucks but hopefully they can connect me with a truck that can save me gas.\\nThank you very much for helping me.\"]},\n",
       " 'use_case_2': {'Snowflake_translate': \"I am interested in my safety features white Honda Odyssey 2022 with so much interior that they have for sale. The truth is that I have 4 children and need a lot of space because I always walk up and down everywhere. At the moment I'm driving a Mazda 5 but it is from 2015 and we are tight on the minivan.I need much more space in the trunk for soccer equipment and ordering.My Mazda 5 is already paid out the door total $32,000 and this has okay condition.It has some problems and brakes can not work very well.But\",\n",
       "  'Azure': [\"Good morning. I'm interested in the white Honda Odyssey 2022 with so interior they have for sale. The truth is that I have 4 children and I need a lot of space because I am always up and down everywhere. Right now I'm driving a Mazda 5 but it's from 2015 and we're squeezed into the minivan. I need a lot more trunk space for soccer equipment and errands. My Mazda 5 is already paid for in full and is in good condition. It has some problems and the brakes don't work very well. But I don't want to spend money on fixing it and I'd rather put that money toward a newer van. I know you're selling it for $34,999 but I can only afford $32,000 total out the door. I have an interest in a warranty but the most I can afford to add it is $500. I'd also like to trade-in and I need at least $10,000 of that to buy the Honda Odyssey. And by chance you could give me some weathermats? With my kids the floors of the van get really dirty and I need something to help me keep them clean. Do I need to know what safety features this ven has? The safety of the van is very important to my family. I can come to the dealership tomorrow to talk more about all the details. Talk soon.\\n\"]}}"
      ]
     },
     "execution_count": 29,
     "metadata": {},
     "output_type": "execute_result"
    }
   ],
   "source": [
    "compare_results_translate"
   ]
  },
  {
   "cell_type": "markdown",
   "id": "91b14924",
   "metadata": {},
   "source": [
    "# Llama3-70B performance"
   ]
  },
  {
   "cell_type": "code",
   "execution_count": 28,
   "id": "01b29e29",
   "metadata": {},
   "outputs": [],
   "source": [
    "compare_results_llama = dict()\n",
    "for key in use_cases:\n",
    "    our_solution = translate_llm_simple(text_to_translate=use_cases[key], model=\"llama3-70b\")\n",
    "    azure_soluion = az_translate(text_to_translate=use_cases[key])\n",
    "    compare_results_llama[key] = {'Snowflake_llama': our_solution, 'Azure': azure_soluion}"
   ]
  },
  {
   "cell_type": "markdown",
   "id": "bbf08d7e",
   "metadata": {},
   "source": [
    "## ChatGPT grading"
   ]
  },
  {
   "cell_type": "markdown",
   "id": "c6fe1a31",
   "metadata": {},
   "source": [
    "### Example 1\n",
    "\n",
    "\n",
    "#### Translation 1:\n",
    "\n",
    "**Score: 95**\n",
    "\n",
    "**Evaluation:**\n",
    "- **Accuracy:** The translation is very accurate, capturing the nuances and details of the original text well. \n",
    "- **Clarity:** The translation is clear and easy to understand.\n",
    "- **Naturalness:** It reads very naturally, with only minor adjustments needed to improve the flow.\n",
    "\n",
    "#### Translation 2:\n",
    "\n",
    "**Score: 70**\n",
    "\n",
    "**Evaluation:**\n",
    "- **Accuracy:** The translation has some inaccuracies and awkward phrasing. For example, \"Am I planning to trade-in and am curious\" is not correctly translated.\n",
    "- **Clarity:** The translation is mostly clear, but certain phrases can be confusing.\n",
    "- **Naturalness:** The translation is less natural, with more awkward phrasing and grammatical issues compared to the first translation.\n",
    "\n",
    "Both translations are good, but the first one is more accurate and reads more naturally than the second."
   ]
  },
  {
   "cell_type": "markdown",
   "id": "bf248a25",
   "metadata": {},
   "source": [
    "### Example 2"
   ]
  },
  {
   "cell_type": "markdown",
   "id": "c16b3125",
   "metadata": {},
   "source": [
    "\n",
    "#### Translation 1:\n",
    "\n",
    "**Score: 95**\n",
    "\n",
    "**Evaluation:**\n",
    "- **Accuracy:** The translation is very accurate, capturing the nuances and details of the original text well.\n",
    "- **Clarity:** The translation is clear and easy to understand.\n",
    "- **Naturalness:** It reads very naturally, with only minor adjustments needed to improve the flow.\n",
    "\n",
    "#### Translation 2:\n",
    "\n",
    "**Score: 65**\n",
    "\n",
    "**Evaluation:**\n",
    "- **Accuracy:** There are several inaccuracies, such as \"with so interior\" instead of \"with tan interior,\" and \"ven\" instead of \"van.\"\n",
    "- **Clarity:** The translation is mostly clear, but certain phrases can be confusing due to inaccuracies.\n",
    "- **Naturalness:** The translation is less natural, with more awkward phrasing and grammatical issues compared to the first translation.\n",
    "\n",
    "Both translations are good, but the first one is more accurate and reads more naturally than the second."
   ]
  },
  {
   "cell_type": "markdown",
   "id": "e3874e12-40b9-4566-a4e2-a534cc425e43",
   "metadata": {
    "tags": []
   },
   "source": [
    "# Deepgram Comparison"
   ]
  },
  {
   "cell_type": "code",
   "execution_count": null,
   "id": "353a0ed1-c328-4b8d-9b89-a5ab8b481c27",
   "metadata": {},
   "outputs": [],
   "source": [
    "from deepgram import DeepgramClient, AnalyzeOptions\n",
    "\n",
    "DEEPGRAM_API_KEY = \"<Your Deepgram API Key>\"\n",
    "\n",
    "TEXT =  {\n",
    "    \"buffer\": \"Enter your text here.\"\n",
    "}\n",
    "\n",
    "def deepgram_translate():\n",
    "    try:\n",
    "        deepgram = DeepgramClient(DEEPGRAM_API_KEY)\n",
    "\n",
    "        options = AnalyzeOptions(\n",
    "            language=\"en\",\n",
    "            summarize=\"v2\", \n",
    "            topics=True, \n",
    "            intents=True, \n",
    "            sentiment=True, \n",
    "        )\n",
    "\n",
    "        response = deepgram.read.analyze.v(\"1\").analyze_text(TEXT, options)\n",
    "        print(response.to_json(indent=4))\n",
    "\n",
    "    except Exception as e:\n",
    "        print(f\"Exception: {e}\")\n"
   ]
  },
  {
   "cell_type": "code",
   "execution_count": null,
   "id": "c02d0ab7-ba77-4193-af2a-80db46a1b0f6",
   "metadata": {
    "tags": []
   },
   "outputs": [],
   "source": [
    "response_to_use_case_1 = {\n",
    "  \"metadata\": {\n",
    "    \"request_id\": \"72e0bcde-e253-4a37-bcea-4d2eeadd0f07\",\n",
    "    \"created\": \"2024-06-27T21:57:14.470Z\",\n",
    "    \"language\": \"en\",\n",
    "    \"summary_info\": {\n",
    "      \"model_uuid\": \"67875a7f-c9c4-48a0-aa55-5bdb8a91c34a\",\n",
    "      \"input_tokens\": 372,\n",
    "      \"output_tokens\": 61\n",
    "    },\n",
    "    \"sentiment_info\": {\n",
    "      \"model_uuid\": \"80ab3179-d113-4254-bd6b-4a2f96498695\",\n",
    "      \"input_tokens\": 630,\n",
    "      \"output_tokens\": 632\n",
    "    },\n",
    "    \"topics_info\": {\n",
    "      \"model_uuid\": \"80ab3179-d113-4254-bd6b-4a2f96498695\",\n",
    "      \"input_tokens\": 630,\n",
    "      \"output_tokens\": 36\n",
    "    },\n",
    "    \"intents_info\": {\n",
    "      \"model_uuid\": \"80ab3179-d113-4254-bd6b-4a2f96498695\",\n",
    "      \"input_tokens\": 630,\n",
    "      \"output_tokens\": 24\n",
    "    }\n",
    "  },\n",
    "  \"results\": {\n",
    "    \"summary\": {\n",
    "      \"text\": \"The transcript appears to be a recording of a phone call between a customer and a representative. The customer is asking about a car dealership's stock, and the representative responds with information about a car dealership's stock and a price. The conversation appears to be unrelated to the actual dealership's business.\"\n",
    "    },\n",
    "    \"topics\": {\n",
    "      \"segments\": [\n",
    "        {\n",
    "          \"text\": \"Prefiero tener un truck de marca Americano como GMC, Chevy or Ford.\",\n",
    "          \"start_word\": 31,\n",
    "          \"end_word\": 42,\n",
    "          \"topics\": [\n",
    "            {\n",
    "              \"topic\": \"Car sales\",\n",
    "              \"confidence_score\": 0.3508841\n",
    "            }\n",
    "          ]\n",
    "        },\n",
    "        {\n",
    "          \"text\": \"Ahorita tengo un Honda Accord del a<unk>o 2019 y mi pago mensual es $500.\",\n",
    "          \"start_word\": 43,\n",
    "          \"end_word\": 56,\n",
    "          \"topics\": [\n",
    "            {\n",
    "              \"topic\": \"Honda accord\",\n",
    "              \"confidence_score\": 0.22236145\n",
    "            }\n",
    "          ]\n",
    "        },\n",
    "        {\n",
    "          \"text\": \"Quiero una troca del a<unk>o pero si no se puede hacer eso, yo aceptar<unk>a una troca que esté más nuevecita.\",\n",
    "          \"start_word\": 178,\n",
    "          \"end_word\": 197,\n",
    "          \"topics\": [\n",
    "            {\n",
    "              \"topic\": \"Troca\",\n",
    "              \"confidence_score\": 0.8471961\n",
    "            }\n",
    "          ]\n",
    "        },\n",
    "        {\n",
    "          \"text\": \"Quiero que el material interior sea del color black.\",\n",
    "          \"start_word\": 215,\n",
    "          \"end_word\": 223,\n",
    "          \"topics\": [\n",
    "            {\n",
    "              \"topic\": \"Color\",\n",
    "              \"confidence_score\": 0.5676131\n",
    "            }\n",
    "          ]\n",
    "        },\n",
    "        {\n",
    "          \"text\": \"No me importa si tiene un sunroof pero s<unk> necesita tener un truck bed de 6.5 pies.\",\n",
    "          \"start_word\": 224,\n",
    "          \"end_word\": 240,\n",
    "          \"topics\": [\n",
    "            {\n",
    "              \"topic\": \"Truck bed\",\n",
    "              \"confidence_score\": 0.27445966\n",
    "            }\n",
    "          ]\n",
    "        },\n",
    "        {\n",
    "          \"text\": \"Se que usualmente las trocas burn up gas mileage pero ojala me puedan entroncar una troca que me puede ahorrar gas.\",\n",
    "          \"start_word\": 277,\n",
    "          \"end_word\": 297,\n",
    "          \"topics\": [\n",
    "            {\n",
    "              \"topic\": \"Gas mileage\",\n",
    "              \"confidence_score\": 0.6795571\n",
    "            }\n",
    "          ]\n",
    "        }\n",
    "      ]\n",
    "    },\n",
    "    \"intents\": {\n",
    "      \"segments\": [\n",
    "        {\n",
    "          \"text\": \"<unk>Veo que tienes muchas trocas de venta y me gustar<unk>a saber si tienes mas sales?\",\n",
    "          \"start_word\": 16,\n",
    "          \"end_word\": 30,\n",
    "          \"intents\": [\n",
    "            {\n",
    "              \"intent\": \"Inform about sales\",\n",
    "              \"confidence_score\": 0.008552421\n",
    "            }\n",
    "          ]\n",
    "        },\n",
    "        {\n",
    "          \"text\": \"La verdad es que está en buenas condiciones. Ahora les voy a decir más detalles del tipo de troca que quiero.\",\n",
    "          \"start_word\": 158,\n",
    "          \"end_word\": 178,\n",
    "          \"intents\": [\n",
    "            {\n",
    "              \"intent\": \"Educate on troca\",\n",
    "              \"confidence_score\": 0.030202974\n",
    "            }\n",
    "          ]\n",
    "        }\n",
    "      ]\n",
    "    },\n",
    "    \"sentiments\": {\n",
    "      \"segments\": [\n",
    "        {\n",
    "          \"text\": \"La verdad es que está en buenas condiciones.\",\n",
    "          \"start_word\": 157,\n",
    "          \"end_word\": 164,\n",
    "          \"sentiment\": \"positive\",\n",
    "          \"sentiment_score\": 0.47509765625\n",
    "        },\n",
    "        {\n",
    "          \"text\": \"Ahora les voy a decir más detalles del tipo de troca que quiero. Quiero una troca del a<unk>o pero si no se puede hacer eso, yo aceptar<unk>a una troca que esté más nuevecita. Prefiero que sea black or blue y que tenga llantas grandes con un m<unk>nimo de 19 inches. Quiero que el material interior sea del color black. No me importa si tiene un sunroof pero s<unk> necesita tener un truck bed de 6.5 pies. También quiero que sea four-wheel drive y que los asientos tengan heat y aire acondicionado. Y lo <unk>ltimo que les voy a pedir es que la troca sea más económica cuando se trata del gas mileage. Se que usualmente las trocas burn up gas mileage pero ojala me puedan entroncar una troca que me puede ahorrar gas.\",\n",
    "          \"start_word\": 165,\n",
    "          \"end_word\": 304,\n",
    "          \"sentiment\": \"neutral\",\n",
    "          \"sentiment_score\": -0.161376953125\n",
    "        },\n",
    "        {\n",
    "          \"text\": \"Muchas gracias por ayudarme.\",\n",
    "          \"start_word\": 298,\n",
    "          \"end_word\": 301,\n",
    "          \"sentiment\": \"positive\",\n",
    "          \"sentiment_score\": 0.75244140625\n",
    "        }\n",
    "      ],\n",
    "      \"average\": {\n",
    "        \"sentiment\": \"neutral\",\n",
    "        \"sentiment_score\": -0.06284612341772151\n",
    "      }\n",
    "    }\n",
    "  }\n",
    "}"
   ]
  },
  {
   "cell_type": "markdown",
   "id": "82d6b895-eea6-49f2-80ac-71b9566efb4a",
   "metadata": {},
   "source": [
    "# Glossary preservation"
   ]
  },
  {
   "cell_type": "code",
   "execution_count": 15,
   "id": "6e2d9235-b23b-45a1-ad38-4e794cc3e9fe",
   "metadata": {},
   "outputs": [],
   "source": [
    "sample_text_english = \"\"\"The CTO emphasized the importance of DevOps in modern IT. \n",
    "Continuous Integration (translated as 'Kontinuierliche Integration') and Agile methodologies are crucial for faster releases and maintaining high-quality software. \n",
    "The goal is to improve the CI/CD pipeline efficiency.\"\"\"\n",
    "\n",
    "sample_text_input = \"\"\"The CTO emphasized the importance of DevOps in modern IT. \n",
    "Kontinuierliche Integration and Agile methodologies are crucial for faster releases and maintaining high-quality software. \n",
    "The goal is to improve the CI/CD pipeline efficiency.\"\"\" \n",
    " \n",
    "desired_german_output = \"\"\"Der CTO betonte die Bedeutung von DevOps im modernen IT. \n",
    "Kontinuierliche Integration und Agile-Methoden sind entscheidend für schnellere Releases und die Aufrechterhaltung qualitativ hochwertiger Software. \n",
    "Das Ziel ist es, die Effizienz der CI/CD-Pipeline zu verbessern.\n",
    "\"\"\""
   ]
  },
  {
   "cell_type": "markdown",
   "id": "8ac42747-6443-4c9f-b4fb-f56348b7052b",
   "metadata": {},
   "source": [
    "## sample_text_english"
   ]
  },
  {
   "cell_type": "code",
   "execution_count": 33,
   "id": "caeb1b93-32b0-4677-83ab-25936338c3be",
   "metadata": {},
   "outputs": [
    {
     "data": {
      "text/plain": [
       "\" Der CTO betonte die Bedeutung von DevOps in der modernen IT.\\nKontinuierliche Integration ('Continuous Integration' übersetzt) und agile Methodologien sind entscheidend für schnellere Veröffentlichungen und die Aufrechterhaltung einer hohen Softwarequalität.\\nDas Ziel ist es, die Effizienz der CI/CD-Pipeline zu verbessern.\""
      ]
     },
     "execution_count": 33,
     "metadata": {},
     "output_type": "execute_result"
    }
   ],
   "source": [
    "sfllm_translate_1 = translate_llm_simple(text_to_translate=sample_text_english, \n",
    "                                         model=\"mistral-large\", \n",
    "                                         source_language='en', \n",
    "                                         target_language='de')\n",
    "sfllm_translate_1"
   ]
  },
  {
   "cell_type": "markdown",
   "id": "385cf735-0788-48df-9207-02ad9b42c64c",
   "metadata": {},
   "source": [
    "## sample_text_input with mistral-large"
   ]
  },
  {
   "cell_type": "code",
   "execution_count": 34,
   "id": "7d053aa5-1c51-46f2-95b8-75ea9ac731cd",
   "metadata": {},
   "outputs": [
    {
     "data": {
      "text/plain": [
       "' Der CTO betonte die Bedeutung von DevOps in der modernen IT.\\nKontinuierliche Integration und Agile Methodiken sind entscheidend für schnellere Veröffentlichungen und die Aufrechterhaltung hochwertiger Software.\\nDas Ziel ist es, die Effizienz der CI/CD-Pipeline zu verbessern.'"
      ]
     },
     "execution_count": 34,
     "metadata": {},
     "output_type": "execute_result"
    }
   ],
   "source": [
    "sfllm_translate_2 = translate_llm_simple(text_to_translate=sample_text_input, \n",
    "                                         model=\"mistral-large\", \n",
    "                                         source_language='en', \n",
    "                                         target_language='de')\n",
    "sfllm_translate_2"
   ]
  },
  {
   "cell_type": "markdown",
   "id": "968cf08d-fa01-40d6-a0b7-be9764bbe2e6",
   "metadata": {},
   "source": [
    "## running through all major models with simple prompt"
   ]
  },
  {
   "cell_type": "code",
   "execution_count": 25,
   "id": "43aad0eb-2bb5-49ab-9b46-8ea9a3e3dc8a",
   "metadata": {},
   "outputs": [
    {
     "name": "stdout",
     "output_type": "stream",
     "text": [
      " **translation using model -- llama2-70b-chat --:\n",
      "\n",
      " Der CTO betonte die Bedeutung von DevOps in der modernen IT. Die kontinuierliche Integration und agile Methodologien sind entscheidend für schnellere Veröffentlichungen und die Wartung von hochwertigem Software. Das Ziel ist es, die Effizienz der CI/CD-Pipeline zu verbessern.\n",
      "\n",
      "Here's a word-for-word translation:\n",
      "\n",
      "Der Chief Technology Officer (CTO) betonte die Bedeutung von DevOps in der modernen Informationstechnologie. Die kontinuierliche Integration und agile Methodologien sind entscheidend für schnellere Veröffentlichungen und die Wartung von hochwertigem Software. Das Ziel ist es, die Effizienz der kontinuierlichen Integration und kontinuierlichen Bereitstellung (CI/CD) zu verbessern.\n",
      "\n",
      "Note: \"kontinuierliche Integration\" is a common term in German, but it is not a direct translation of \"Continuous Integration\" (CI). \"Kontinuierliche Bereitstellung\" (CB) is a more common term for \"Continuous Deployment\" (CD). \n",
      "\n",
      " **translation using model -- llama3.1-8b --:\n",
      "\n",
      "<Zitat>Der CTO betonte die Bedeutung von DevOps in der modernen IT. \n",
      "Kontinuierliche Integration und agile Methoden sind für schnellere Releases und die Erhaltung hoher Software-Qualität unerlässlich. \n",
      "Ziel ist die Verbesserung der Effizienz der CI/CD-Pipeline. \n",
      "\n",
      " **translation using model -- llama3.1-70b --:\n",
      "\n",
      "<Text>Der CTO betonte die Bedeutung von DevOps in der modernen IT. \n",
      "Kontinuierliche Integration und agile Methoden sind entscheidend für schnellere Releases und die Aufrechterhaltung hochwertiger Software. \n",
      "Das Ziel ist es, die Effizienz der CI/CD-Pipeline zu verbessern.</Text> \n",
      "\n",
      " **translation using model -- llama3.1-405b --:\n",
      "\n",
      "<Text>Der CTO betonte die Bedeutung von DevOps in der modernen IT. \n",
      "Kontinuierliche Integration und agile Methoden sind entscheidend für schnellere Releases und die Aufrechterhaltung von hochwertiger Software. \n",
      "Das Ziel ist es, die Effizienz der CI/CD-Pipeline zu verbessern.</Text>. \n",
      "\n",
      " **translation using model -- llama3.2-3b --:\n",
      "\n",
      "Der CTO betonte die Bedeutung von DevOps in der modernen IT. \n",
      "Kontinuierliche Integration und Agile-Methoden sind entscheidend für schnelle Veröffentlichungen und die Aufrechterhaltung hoher Qualität des Software. \n",
      "Das Ziel ist es, die Effizienz des CI/CD-Pipelines zu verbessern. \n",
      "\n",
      " **translation using model -- mistral-large2 --:\n",
      "\n",
      " Der CTO betonte die Bedeutung von DevOps in der modernen IT. Kontinuierliche Integration und agile Methoden sind entscheidend für schnellere Releases und die Aufrechterhaltung hoher Softwarequalität. Das Ziel ist es, die Effizienz der CI/CD-Pipeline zu verbessern. \n",
      "\n",
      " **translation using model -- mixtral-8x7b --:\n",
      "\n",
      " <Übersetzung> Der CTO betonte die Bedeutung von DevOps in der modernen IT. Kontinuierliche Integration und agile Methoden sind unerlässlich für schnellere Veröffentlichungen und die Aufrechterhaltung hochwertiger Software. Das Ziel ist die Verbesserung der Effizienz der CI/CD-Pipeline. \n",
      "\n",
      " **translation using model -- reka-flash --:\n",
      "\n",
      " In German, the given English text translates to:\n",
      "\n",
      "```\n",
      "Der CTO betonte die Bedeutung von DevOps in der modernen IT. \n",
      "Kontinuierliche Integration und agile Methoden sind für schnellere Freigaben und den Erhalt einer hohen Softwarequalität von entscheidender Bedeutung. \n",
      "Das Ziel ist es, die Effizienz des CI/CD-Pipeline-Prozesses zu verbessern.\n",
      "```\n",
      "\n",
      "Explanation:\n",
      "- \"The CTO emphasized the importance of DevOps in modern IT\" -> \"Der CTO betonte die Bedeutung von DevOps in der modernen IT\"\n",
      "- \"Continuous Integration and Agile methodologies are crucial for faster releases and maintaining high-quality software\" -> \"Kontinuierliche Integration und agile Methoden sind für schnellere Freigaben und den Erhalt einer hohen Softwarequalität von entscheidender Bedeutung\"\n",
      "- \"The goal is to improve the CI/CD pipeline efficiency\" -> \"Das Ziel ist es, die Effizienz des CI/CD-Pipeline-Prozesses zu verbessern\" \n",
      "\n"
     ]
    }
   ],
   "source": [
    "model_list = [\n",
    "'llama2-70b-chat',\n",
    "'llama3.1-8b',\n",
    "'llama3.1-70b',\n",
    "'llama3.1-405b',\n",
    "'llama3.2-3b',\n",
    "'mistral-large2',\n",
    "'mixtral-8x7b',\n",
    "'reka-flash']\n",
    "# sample_text_input with all major models in Cortex AI\n",
    "for model in model_list:\n",
    "    translation = translate_llm_simple(text_to_translate=sample_text_input, \n",
    "                                         model=model, \n",
    "                                         source_language='en', \n",
    "                                         target_language='de')\n",
    "    print(f\" **translation using model -- {model} --:\\n\")\n",
    "    print(translation, \"\\n\")"
   ]
  },
  {
   "cell_type": "code",
   "execution_count": 32,
   "id": "f3c6bba2-a115-4bb2-bd15-a946a885b022",
   "metadata": {},
   "outputs": [
    {
     "name": "stdout",
     "output_type": "stream",
     "text": [
      " **translation using model -- mistral-large2 --:\n",
      "\n",
      " Der CTO betonte die Bedeutung von DevOps in der modernen IT. Kontinuierliche Integration und agile Methoden sind entscheidend für schnellere Releases und die Aufrechterhaltung hoher Softwarequalität. Das Ziel ist es, die Effizienz der CI/CD-Pipeline zu verbessern. \n",
      "\n",
      " **translation using model -- mistral-large2 --:\n",
      "\n",
      " The CTO emphasized the importance of DevOps in modern IT.\n",
      "Kontinuierliche Integration and Agile methodologies are crucial for faster releases and maintaining high-quality software.\n",
      "The goal is to improve the CI/CD pipeline efficiency.\n",
      "\n",
      "--> German\n",
      "\n",
      "Der CTO betonte die Bedeutung von DevOps in der modernen IT.\n",
      "Kontinuierliche Integration und agile Methoden sind entscheidend für schnellere Releases und die Aufrechterhaltung hoher Softwarequalität.\n",
      "Das Ziel ist es, die Effizienz der CI/CD-Pipeline zu verbessern. \n",
      "\n"
     ]
    }
   ],
   "source": [
    "## run through custom prompts\n",
    "translation = translate_prompt_orig(text_to_translate=sample_text_input, \n",
    "                                     model='mistral-large2', \n",
    "                                     source_language='en', \n",
    "                                     target_language='de')\n",
    "print(f\" **translation using model -- mistral-large2 --:\\n\")\n",
    "print(translation, \"\\n\")\n",
    "\n",
    "translation = translate_prompt_anth(text_to_translate=sample_text_input, \n",
    "                                     model='mistral-large2', \n",
    "                                     source_language='en', \n",
    "                                     target_language='de')\n",
    "print(f\" **translation using model -- mistral-large2 --:\\n\")\n",
    "print(translation, \"\\n\")"
   ]
  },
  {
   "cell_type": "code",
   "execution_count": null,
   "id": "1e82234f-a8dd-42b2-8d8a-64cf4f8bf841",
   "metadata": {},
   "outputs": [],
   "source": []
  }
 ],
 "metadata": {
  "kernelspec": {
   "display_name": "Python 3 (ipykernel)",
   "language": "python",
   "name": "python3"
  },
  "language_info": {
   "codemirror_mode": {
    "name": "ipython",
    "version": 3
   },
   "file_extension": ".py",
   "mimetype": "text/x-python",
   "name": "python",
   "nbconvert_exporter": "python",
   "pygments_lexer": "ipython3",
   "version": "3.10.15"
  },
  "toc": {
   "base_numbering": 1,
   "nav_menu": {},
   "number_sections": true,
   "sideBar": true,
   "skip_h1_title": false,
   "title_cell": "Table of Contents",
   "title_sidebar": "Contents",
   "toc_cell": false,
   "toc_position": {},
   "toc_section_display": true,
   "toc_window_display": false
  },
  "toc-autonumbering": false,
  "toc-showcode": true
 },
 "nbformat": 4,
 "nbformat_minor": 5
}
